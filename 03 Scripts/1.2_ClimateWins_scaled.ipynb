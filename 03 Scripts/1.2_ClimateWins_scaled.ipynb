{
 "cells": [
  {
   "cell_type": "markdown",
   "id": "bb3c45e2-c403-49d8-bf8b-2e68f638bfb4",
   "metadata": {},
   "source": [
    "# 1.2_ML_ClimateWins"
   ]
  },
  {
   "cell_type": "markdown",
   "id": "e7a7a2b3-9d53-4e6a-be63-cd355d136826",
   "metadata": {},
   "source": [
    "## 01 Import Data & Libraries\n",
    "## 02 Scaling the Data\n",
    "#### 2.1 Check for missing values\n",
    "#### 2.2 Scaling"
   ]
  },
  {
   "cell_type": "code",
   "execution_count": null,
   "id": "96445a20-fba2-465f-84b0-afd8daf05226",
   "metadata": {},
   "outputs": [],
   "source": []
  },
  {
   "cell_type": "markdown",
   "id": "cc19cf49-86f4-41a2-bbd2-e215777e97ee",
   "metadata": {},
   "source": [
    "### 01 Importing Data & Libraries"
   ]
  },
  {
   "cell_type": "code",
   "execution_count": 3,
   "id": "788f9ed5-6431-4a71-8934-b56190777919",
   "metadata": {},
   "outputs": [],
   "source": [
    "import pandas as pd\n",
    "import numpy as np\n",
    "import seaborn as sns\n",
    "import matplotlib\n",
    "import matplotlib.pyplot as plt\n",
    "import os\n",
    "import sklearn\n",
    "from sklearn.preprocessing import StandardScaler"
   ]
  },
  {
   "cell_type": "code",
   "execution_count": 5,
   "id": "8922c3fb-54b5-424c-a2b9-f50880acfb09",
   "metadata": {},
   "outputs": [],
   "source": [
    "path = r\"C:\\Users\\wallm\\02 2025 Machine Learning Project\""
   ]
  },
  {
   "cell_type": "code",
   "execution_count": 7,
   "id": "c35aeb8e-3e63-4541-9fc0-fbad289198e8",
   "metadata": {},
   "outputs": [],
   "source": [
    "# Import the Dataset-weather-prediction-dataset-processed.csv file\n",
    "\n",
    "df = pd.read_csv(os.path.join(path, '02 Data', '01 Original data', 'Dataset-weather-prediction-dataset-processed.csv'))"
   ]
  },
  {
   "cell_type": "code",
   "execution_count": 9,
   "id": "f4e0015a-fa61-4a7d-a631-3f49daa4bf03",
   "metadata": {},
   "outputs": [
    {
     "data": {
      "text/html": [
       "<div>\n",
       "<style scoped>\n",
       "    .dataframe tbody tr th:only-of-type {\n",
       "        vertical-align: middle;\n",
       "    }\n",
       "\n",
       "    .dataframe tbody tr th {\n",
       "        vertical-align: top;\n",
       "    }\n",
       "\n",
       "    .dataframe thead th {\n",
       "        text-align: right;\n",
       "    }\n",
       "</style>\n",
       "<table border=\"1\" class=\"dataframe\">\n",
       "  <thead>\n",
       "    <tr style=\"text-align: right;\">\n",
       "      <th></th>\n",
       "      <th>DATE</th>\n",
       "      <th>MONTH</th>\n",
       "      <th>BASEL_cloud_cover</th>\n",
       "      <th>BASEL_wind_speed</th>\n",
       "      <th>BASEL_humidity</th>\n",
       "      <th>BASEL_pressure</th>\n",
       "      <th>BASEL_global_radiation</th>\n",
       "      <th>BASEL_precipitation</th>\n",
       "      <th>BASEL_snow_depth</th>\n",
       "      <th>BASEL_sunshine</th>\n",
       "      <th>...</th>\n",
       "      <th>VALENTIA_cloud_cover</th>\n",
       "      <th>VALENTIA_humidity</th>\n",
       "      <th>VALENTIA_pressure</th>\n",
       "      <th>VALENTIA_global_radiation</th>\n",
       "      <th>VALENTIA_precipitation</th>\n",
       "      <th>VALENTIA_snow_depth</th>\n",
       "      <th>VALENTIA_sunshine</th>\n",
       "      <th>VALENTIA_temp_mean</th>\n",
       "      <th>VALENTIA_temp_min</th>\n",
       "      <th>VALENTIA_temp_max</th>\n",
       "    </tr>\n",
       "  </thead>\n",
       "  <tbody>\n",
       "    <tr>\n",
       "      <th>0</th>\n",
       "      <td>19600101</td>\n",
       "      <td>1</td>\n",
       "      <td>7</td>\n",
       "      <td>2.1</td>\n",
       "      <td>0.85</td>\n",
       "      <td>1.018</td>\n",
       "      <td>0.32</td>\n",
       "      <td>0.09</td>\n",
       "      <td>0</td>\n",
       "      <td>0.7</td>\n",
       "      <td>...</td>\n",
       "      <td>5</td>\n",
       "      <td>0.88</td>\n",
       "      <td>1.0003</td>\n",
       "      <td>0.45</td>\n",
       "      <td>0.34</td>\n",
       "      <td>0</td>\n",
       "      <td>4.7</td>\n",
       "      <td>8.5</td>\n",
       "      <td>6.0</td>\n",
       "      <td>10.9</td>\n",
       "    </tr>\n",
       "    <tr>\n",
       "      <th>1</th>\n",
       "      <td>19600102</td>\n",
       "      <td>1</td>\n",
       "      <td>6</td>\n",
       "      <td>2.1</td>\n",
       "      <td>0.84</td>\n",
       "      <td>1.018</td>\n",
       "      <td>0.36</td>\n",
       "      <td>1.05</td>\n",
       "      <td>0</td>\n",
       "      <td>1.1</td>\n",
       "      <td>...</td>\n",
       "      <td>7</td>\n",
       "      <td>0.91</td>\n",
       "      <td>1.0007</td>\n",
       "      <td>0.25</td>\n",
       "      <td>0.84</td>\n",
       "      <td>0</td>\n",
       "      <td>0.7</td>\n",
       "      <td>8.9</td>\n",
       "      <td>5.6</td>\n",
       "      <td>12.1</td>\n",
       "    </tr>\n",
       "    <tr>\n",
       "      <th>2</th>\n",
       "      <td>19600103</td>\n",
       "      <td>1</td>\n",
       "      <td>8</td>\n",
       "      <td>2.1</td>\n",
       "      <td>0.90</td>\n",
       "      <td>1.018</td>\n",
       "      <td>0.18</td>\n",
       "      <td>0.30</td>\n",
       "      <td>0</td>\n",
       "      <td>0.0</td>\n",
       "      <td>...</td>\n",
       "      <td>7</td>\n",
       "      <td>0.91</td>\n",
       "      <td>1.0096</td>\n",
       "      <td>0.17</td>\n",
       "      <td>0.08</td>\n",
       "      <td>0</td>\n",
       "      <td>0.1</td>\n",
       "      <td>10.5</td>\n",
       "      <td>8.1</td>\n",
       "      <td>12.9</td>\n",
       "    </tr>\n",
       "    <tr>\n",
       "      <th>3</th>\n",
       "      <td>19600104</td>\n",
       "      <td>1</td>\n",
       "      <td>3</td>\n",
       "      <td>2.1</td>\n",
       "      <td>0.92</td>\n",
       "      <td>1.018</td>\n",
       "      <td>0.58</td>\n",
       "      <td>0.00</td>\n",
       "      <td>0</td>\n",
       "      <td>4.1</td>\n",
       "      <td>...</td>\n",
       "      <td>7</td>\n",
       "      <td>0.86</td>\n",
       "      <td>1.0184</td>\n",
       "      <td>0.13</td>\n",
       "      <td>0.98</td>\n",
       "      <td>0</td>\n",
       "      <td>0.0</td>\n",
       "      <td>7.4</td>\n",
       "      <td>7.3</td>\n",
       "      <td>10.6</td>\n",
       "    </tr>\n",
       "    <tr>\n",
       "      <th>4</th>\n",
       "      <td>19600105</td>\n",
       "      <td>1</td>\n",
       "      <td>6</td>\n",
       "      <td>2.1</td>\n",
       "      <td>0.95</td>\n",
       "      <td>1.018</td>\n",
       "      <td>0.65</td>\n",
       "      <td>0.14</td>\n",
       "      <td>0</td>\n",
       "      <td>5.4</td>\n",
       "      <td>...</td>\n",
       "      <td>3</td>\n",
       "      <td>0.80</td>\n",
       "      <td>1.0328</td>\n",
       "      <td>0.46</td>\n",
       "      <td>0.00</td>\n",
       "      <td>0</td>\n",
       "      <td>5.7</td>\n",
       "      <td>5.7</td>\n",
       "      <td>3.0</td>\n",
       "      <td>8.4</td>\n",
       "    </tr>\n",
       "  </tbody>\n",
       "</table>\n",
       "<p>5 rows × 170 columns</p>\n",
       "</div>"
      ],
      "text/plain": [
       "       DATE  MONTH  BASEL_cloud_cover  BASEL_wind_speed  BASEL_humidity  \\\n",
       "0  19600101      1                  7               2.1            0.85   \n",
       "1  19600102      1                  6               2.1            0.84   \n",
       "2  19600103      1                  8               2.1            0.90   \n",
       "3  19600104      1                  3               2.1            0.92   \n",
       "4  19600105      1                  6               2.1            0.95   \n",
       "\n",
       "   BASEL_pressure  BASEL_global_radiation  BASEL_precipitation  \\\n",
       "0           1.018                    0.32                 0.09   \n",
       "1           1.018                    0.36                 1.05   \n",
       "2           1.018                    0.18                 0.30   \n",
       "3           1.018                    0.58                 0.00   \n",
       "4           1.018                    0.65                 0.14   \n",
       "\n",
       "   BASEL_snow_depth  BASEL_sunshine  ...  VALENTIA_cloud_cover  \\\n",
       "0                 0             0.7  ...                     5   \n",
       "1                 0             1.1  ...                     7   \n",
       "2                 0             0.0  ...                     7   \n",
       "3                 0             4.1  ...                     7   \n",
       "4                 0             5.4  ...                     3   \n",
       "\n",
       "   VALENTIA_humidity  VALENTIA_pressure  VALENTIA_global_radiation  \\\n",
       "0               0.88             1.0003                       0.45   \n",
       "1               0.91             1.0007                       0.25   \n",
       "2               0.91             1.0096                       0.17   \n",
       "3               0.86             1.0184                       0.13   \n",
       "4               0.80             1.0328                       0.46   \n",
       "\n",
       "   VALENTIA_precipitation  VALENTIA_snow_depth  VALENTIA_sunshine  \\\n",
       "0                    0.34                    0                4.7   \n",
       "1                    0.84                    0                0.7   \n",
       "2                    0.08                    0                0.1   \n",
       "3                    0.98                    0                0.0   \n",
       "4                    0.00                    0                5.7   \n",
       "\n",
       "   VALENTIA_temp_mean  VALENTIA_temp_min  VALENTIA_temp_max  \n",
       "0                 8.5                6.0               10.9  \n",
       "1                 8.9                5.6               12.1  \n",
       "2                10.5                8.1               12.9  \n",
       "3                 7.4                7.3               10.6  \n",
       "4                 5.7                3.0                8.4  \n",
       "\n",
       "[5 rows x 170 columns]"
      ]
     },
     "execution_count": 9,
     "metadata": {},
     "output_type": "execute_result"
    }
   ],
   "source": [
    "df.head()"
   ]
  },
  {
   "cell_type": "code",
   "execution_count": 11,
   "id": "5d4b0604-e865-449a-b2fc-70f836378abd",
   "metadata": {},
   "outputs": [
    {
     "data": {
      "text/plain": [
       "RangeIndex(start=0, stop=22950, step=1)"
      ]
     },
     "execution_count": 11,
     "metadata": {},
     "output_type": "execute_result"
    }
   ],
   "source": [
    "df.index"
   ]
  },
  {
   "cell_type": "code",
   "execution_count": 23,
   "id": "8deae9be-8565-4663-8a2d-5ef7329fbfb8",
   "metadata": {},
   "outputs": [
    {
     "data": {
      "text/plain": [
       "(22950, 170)"
      ]
     },
     "execution_count": 23,
     "metadata": {},
     "output_type": "execute_result"
    }
   ],
   "source": [
    "df.shape"
   ]
  },
  {
   "cell_type": "code",
   "execution_count": 13,
   "id": "ae7ce62d-e65e-4689-91e4-9c858ab894a8",
   "metadata": {},
   "outputs": [
    {
     "name": "stdout",
     "output_type": "stream",
     "text": [
      "<class 'pandas.core.frame.DataFrame'>\n",
      "RangeIndex: 22950 entries, 0 to 22949\n",
      "Columns: 170 entries, DATE to VALENTIA_temp_max\n",
      "dtypes: float64(145), int64(25)\n",
      "memory usage: 29.8 MB\n"
     ]
    }
   ],
   "source": [
    "df.info()"
   ]
  },
  {
   "cell_type": "markdown",
   "id": "dc5f3df2-e7c1-4f8c-8a31-1298103c929c",
   "metadata": {},
   "source": [
    "### 02 Scaling"
   ]
  },
  {
   "cell_type": "markdown",
   "id": "2de98899-4469-4d67-a99f-35f96b4b1ac2",
   "metadata": {},
   "source": [
    "#### 2.1 Check for missing values"
   ]
  },
  {
   "cell_type": "code",
   "execution_count": 19,
   "id": "b964c5ac-7802-4ca4-8959-46eec1cea8f8",
   "metadata": {},
   "outputs": [
    {
     "data": {
      "text/plain": [
       "DATE                   0\n",
       "MONTH                  0\n",
       "BASEL_cloud_cover      0\n",
       "BASEL_wind_speed       0\n",
       "BASEL_humidity         0\n",
       "                      ..\n",
       "VALENTIA_snow_depth    0\n",
       "VALENTIA_sunshine      0\n",
       "VALENTIA_temp_mean     0\n",
       "VALENTIA_temp_min      0\n",
       "VALENTIA_temp_max      0\n",
       "Length: 170, dtype: int64"
      ]
     },
     "execution_count": 19,
     "metadata": {},
     "output_type": "execute_result"
    }
   ],
   "source": [
    "df.isnull().sum()"
   ]
  },
  {
   "cell_type": "code",
   "execution_count": 25,
   "id": "23409f5d-5d48-4334-9fc4-8fb3feab62d2",
   "metadata": {},
   "outputs": [
    {
     "data": {
      "text/plain": [
       "(22950, 170)"
      ]
     },
     "execution_count": 25,
     "metadata": {},
     "output_type": "execute_result"
    }
   ],
   "source": [
    "df.shape"
   ]
  },
  {
   "cell_type": "markdown",
   "id": "6bfd89f2-5d9e-40ff-b3d3-0975f69df09e",
   "metadata": {},
   "source": [
    "#### 2.2 Scaling"
   ]
  },
  {
   "cell_type": "code",
   "execution_count": 36,
   "id": "29c62cb6-13a3-4d67-b60e-d805c58f9335",
   "metadata": {},
   "outputs": [],
   "source": [
    "# Select only numerical columns excluding 'DATE'\n",
    "\n",
    "num_cols = df.select_dtypes(include=['float64', 'int64']).columns\n",
    "num_cols = num_cols.drop('DATE')"
   ]
  },
  {
   "cell_type": "code",
   "execution_count": 38,
   "id": "e4d829b8-d0ab-4a7d-ae88-c98f0a5f2f14",
   "metadata": {},
   "outputs": [],
   "source": [
    "# Scaling useing the StandardScaler() command from the sklearn library\n",
    "\n",
    "scaler = StandardScaler()"
   ]
  },
  {
   "cell_type": "code",
   "execution_count": 40,
   "id": "f6780a89-ea16-4ecf-8a05-41b34960141e",
   "metadata": {},
   "outputs": [],
   "source": [
    "# Scale the numerical columns, now excluding 'DATE' as the identifier\n",
    "\n",
    "df_scaled = pd.DataFrame(scaler.fit_transform(df[num_cols]), columns=num_cols)"
   ]
  },
  {
   "cell_type": "code",
   "execution_count": 42,
   "id": "2a894aa7-cebc-4a7a-8795-2bade72921dc",
   "metadata": {},
   "outputs": [],
   "source": [
    "# Add DATE column back in without scaling\n",
    "\n",
    "df_scaled.insert(0, 'DATE', df['DATE'])"
   ]
  },
  {
   "cell_type": "code",
   "execution_count": 44,
   "id": "489fcc7a-0171-48f8-9658-338af1c9bf35",
   "metadata": {},
   "outputs": [
    {
     "data": {
      "text/html": [
       "<div>\n",
       "<style scoped>\n",
       "    .dataframe tbody tr th:only-of-type {\n",
       "        vertical-align: middle;\n",
       "    }\n",
       "\n",
       "    .dataframe tbody tr th {\n",
       "        vertical-align: top;\n",
       "    }\n",
       "\n",
       "    .dataframe thead th {\n",
       "        text-align: right;\n",
       "    }\n",
       "</style>\n",
       "<table border=\"1\" class=\"dataframe\">\n",
       "  <thead>\n",
       "    <tr style=\"text-align: right;\">\n",
       "      <th></th>\n",
       "      <th>DATE</th>\n",
       "      <th>MONTH</th>\n",
       "      <th>BASEL_cloud_cover</th>\n",
       "      <th>BASEL_wind_speed</th>\n",
       "      <th>BASEL_humidity</th>\n",
       "      <th>BASEL_pressure</th>\n",
       "      <th>BASEL_global_radiation</th>\n",
       "      <th>BASEL_precipitation</th>\n",
       "      <th>BASEL_snow_depth</th>\n",
       "      <th>BASEL_sunshine</th>\n",
       "      <th>...</th>\n",
       "      <th>VALENTIA_cloud_cover</th>\n",
       "      <th>VALENTIA_humidity</th>\n",
       "      <th>VALENTIA_pressure</th>\n",
       "      <th>VALENTIA_global_radiation</th>\n",
       "      <th>VALENTIA_precipitation</th>\n",
       "      <th>VALENTIA_snow_depth</th>\n",
       "      <th>VALENTIA_sunshine</th>\n",
       "      <th>VALENTIA_temp_mean</th>\n",
       "      <th>VALENTIA_temp_min</th>\n",
       "      <th>VALENTIA_temp_max</th>\n",
       "    </tr>\n",
       "  </thead>\n",
       "  <tbody>\n",
       "    <tr>\n",
       "      <th>0</th>\n",
       "      <td>19600101</td>\n",
       "      <td>-1.599964</td>\n",
       "      <td>0.660514</td>\n",
       "      <td>-0.02793</td>\n",
       "      <td>0.826097</td>\n",
       "      <td>-0.001949</td>\n",
       "      <td>-1.101066</td>\n",
       "      <td>-0.265148</td>\n",
       "      <td>-0.179228</td>\n",
       "      <td>-0.902918</td>\n",
       "      <td>...</td>\n",
       "      <td>-0.443701</td>\n",
       "      <td>0.761754</td>\n",
       "      <td>-1.299744</td>\n",
       "      <td>-0.806427</td>\n",
       "      <td>-0.088407</td>\n",
       "      <td>-0.024706</td>\n",
       "      <td>0.372147</td>\n",
       "      <td>-0.668215</td>\n",
       "      <td>-0.519743</td>\n",
       "      <td>-0.752237</td>\n",
       "    </tr>\n",
       "    <tr>\n",
       "      <th>1</th>\n",
       "      <td>19600102</td>\n",
       "      <td>-1.599964</td>\n",
       "      <td>0.244897</td>\n",
       "      <td>-0.02793</td>\n",
       "      <td>0.735760</td>\n",
       "      <td>-0.001949</td>\n",
       "      <td>-1.058108</td>\n",
       "      <td>1.658760</td>\n",
       "      <td>-0.179228</td>\n",
       "      <td>-0.810126</td>\n",
       "      <td>...</td>\n",
       "      <td>0.783085</td>\n",
       "      <td>1.183580</td>\n",
       "      <td>-1.262455</td>\n",
       "      <td>-1.042055</td>\n",
       "      <td>0.503361</td>\n",
       "      <td>-0.024706</td>\n",
       "      <td>-0.829285</td>\n",
       "      <td>-0.548046</td>\n",
       "      <td>-0.629054</td>\n",
       "      <td>-0.407141</td>\n",
       "    </tr>\n",
       "    <tr>\n",
       "      <th>2</th>\n",
       "      <td>19600103</td>\n",
       "      <td>-1.599964</td>\n",
       "      <td>1.076130</td>\n",
       "      <td>-0.02793</td>\n",
       "      <td>1.277781</td>\n",
       "      <td>-0.001949</td>\n",
       "      <td>-1.251420</td>\n",
       "      <td>0.155707</td>\n",
       "      <td>-0.179228</td>\n",
       "      <td>-1.065304</td>\n",
       "      <td>...</td>\n",
       "      <td>0.783085</td>\n",
       "      <td>1.183580</td>\n",
       "      <td>-0.432779</td>\n",
       "      <td>-1.136306</td>\n",
       "      <td>-0.396127</td>\n",
       "      <td>-0.024706</td>\n",
       "      <td>-1.009500</td>\n",
       "      <td>-0.067372</td>\n",
       "      <td>0.054135</td>\n",
       "      <td>-0.177078</td>\n",
       "    </tr>\n",
       "    <tr>\n",
       "      <th>3</th>\n",
       "      <td>19600104</td>\n",
       "      <td>-1.599964</td>\n",
       "      <td>-1.001953</td>\n",
       "      <td>-0.02793</td>\n",
       "      <td>1.458455</td>\n",
       "      <td>-0.001949</td>\n",
       "      <td>-0.821838</td>\n",
       "      <td>-0.445514</td>\n",
       "      <td>-0.179228</td>\n",
       "      <td>-0.114186</td>\n",
       "      <td>...</td>\n",
       "      <td>0.783085</td>\n",
       "      <td>0.480538</td>\n",
       "      <td>0.387574</td>\n",
       "      <td>-1.183432</td>\n",
       "      <td>0.669056</td>\n",
       "      <td>-0.024706</td>\n",
       "      <td>-1.039536</td>\n",
       "      <td>-0.998679</td>\n",
       "      <td>-0.164486</td>\n",
       "      <td>-0.838511</td>\n",
       "    </tr>\n",
       "    <tr>\n",
       "      <th>4</th>\n",
       "      <td>19600105</td>\n",
       "      <td>-1.599964</td>\n",
       "      <td>0.244897</td>\n",
       "      <td>-0.02793</td>\n",
       "      <td>1.729466</td>\n",
       "      <td>-0.001949</td>\n",
       "      <td>-0.746661</td>\n",
       "      <td>-0.164944</td>\n",
       "      <td>-0.179228</td>\n",
       "      <td>0.187388</td>\n",
       "      <td>...</td>\n",
       "      <td>-1.670486</td>\n",
       "      <td>-0.363113</td>\n",
       "      <td>1.729970</td>\n",
       "      <td>-0.794645</td>\n",
       "      <td>-0.490810</td>\n",
       "      <td>-0.024706</td>\n",
       "      <td>0.672505</td>\n",
       "      <td>-1.509396</td>\n",
       "      <td>-1.339569</td>\n",
       "      <td>-1.471186</td>\n",
       "    </tr>\n",
       "  </tbody>\n",
       "</table>\n",
       "<p>5 rows × 170 columns</p>\n",
       "</div>"
      ],
      "text/plain": [
       "       DATE     MONTH  BASEL_cloud_cover  BASEL_wind_speed  BASEL_humidity  \\\n",
       "0  19600101 -1.599964           0.660514          -0.02793        0.826097   \n",
       "1  19600102 -1.599964           0.244897          -0.02793        0.735760   \n",
       "2  19600103 -1.599964           1.076130          -0.02793        1.277781   \n",
       "3  19600104 -1.599964          -1.001953          -0.02793        1.458455   \n",
       "4  19600105 -1.599964           0.244897          -0.02793        1.729466   \n",
       "\n",
       "   BASEL_pressure  BASEL_global_radiation  BASEL_precipitation  \\\n",
       "0       -0.001949               -1.101066            -0.265148   \n",
       "1       -0.001949               -1.058108             1.658760   \n",
       "2       -0.001949               -1.251420             0.155707   \n",
       "3       -0.001949               -0.821838            -0.445514   \n",
       "4       -0.001949               -0.746661            -0.164944   \n",
       "\n",
       "   BASEL_snow_depth  BASEL_sunshine  ...  VALENTIA_cloud_cover  \\\n",
       "0         -0.179228       -0.902918  ...             -0.443701   \n",
       "1         -0.179228       -0.810126  ...              0.783085   \n",
       "2         -0.179228       -1.065304  ...              0.783085   \n",
       "3         -0.179228       -0.114186  ...              0.783085   \n",
       "4         -0.179228        0.187388  ...             -1.670486   \n",
       "\n",
       "   VALENTIA_humidity  VALENTIA_pressure  VALENTIA_global_radiation  \\\n",
       "0           0.761754          -1.299744                  -0.806427   \n",
       "1           1.183580          -1.262455                  -1.042055   \n",
       "2           1.183580          -0.432779                  -1.136306   \n",
       "3           0.480538           0.387574                  -1.183432   \n",
       "4          -0.363113           1.729970                  -0.794645   \n",
       "\n",
       "   VALENTIA_precipitation  VALENTIA_snow_depth  VALENTIA_sunshine  \\\n",
       "0               -0.088407            -0.024706           0.372147   \n",
       "1                0.503361            -0.024706          -0.829285   \n",
       "2               -0.396127            -0.024706          -1.009500   \n",
       "3                0.669056            -0.024706          -1.039536   \n",
       "4               -0.490810            -0.024706           0.672505   \n",
       "\n",
       "   VALENTIA_temp_mean  VALENTIA_temp_min  VALENTIA_temp_max  \n",
       "0           -0.668215          -0.519743          -0.752237  \n",
       "1           -0.548046          -0.629054          -0.407141  \n",
       "2           -0.067372           0.054135          -0.177078  \n",
       "3           -0.998679          -0.164486          -0.838511  \n",
       "4           -1.509396          -1.339569          -1.471186  \n",
       "\n",
       "[5 rows x 170 columns]"
      ]
     },
     "execution_count": 44,
     "metadata": {},
     "output_type": "execute_result"
    }
   ],
   "source": [
    "df_scaled.head()"
   ]
  },
  {
   "cell_type": "code",
   "execution_count": 46,
   "id": "b6ed3d94-1716-4a77-8e89-a852f740e644",
   "metadata": {},
   "outputs": [
    {
     "data": {
      "text/plain": [
       "(22950, 170)"
      ]
     },
     "execution_count": 46,
     "metadata": {},
     "output_type": "execute_result"
    }
   ],
   "source": [
    "df.shape"
   ]
  },
  {
   "cell_type": "code",
   "execution_count": 51,
   "id": "21c0661e-b458-4bbf-98b0-c7a47dc78788",
   "metadata": {},
   "outputs": [
    {
     "name": "stdout",
     "output_type": "stream",
     "text": [
      "<class 'pandas.core.frame.DataFrame'>\n",
      "RangeIndex: 22950 entries, 0 to 22949\n",
      "Columns: 170 entries, DATE to VALENTIA_temp_max\n",
      "dtypes: float64(145), int64(25)\n",
      "memory usage: 29.8 MB\n"
     ]
    }
   ],
   "source": [
    "df.info()"
   ]
  },
  {
   "cell_type": "code",
   "execution_count": 55,
   "id": "c5e7133a-f15d-4fd7-960a-4ee2d00bacd9",
   "metadata": {},
   "outputs": [
    {
     "data": {
      "text/plain": [
       "MONTH                  1.000022\n",
       "BASEL_cloud_cover      1.000022\n",
       "BASEL_wind_speed       1.000022\n",
       "BASEL_humidity         1.000022\n",
       "BASEL_pressure         1.000022\n",
       "                         ...   \n",
       "VALENTIA_snow_depth    1.000022\n",
       "VALENTIA_sunshine      1.000022\n",
       "VALENTIA_temp_mean     1.000022\n",
       "VALENTIA_temp_min      1.000022\n",
       "VALENTIA_temp_max      1.000022\n",
       "Length: 169, dtype: float64"
      ]
     },
     "execution_count": 55,
     "metadata": {},
     "output_type": "execute_result"
    }
   ],
   "source": [
    "# Check standard distribution\n",
    "\n",
    "df_scaled[num_cols].std()"
   ]
  },
  {
   "cell_type": "code",
   "execution_count": 57,
   "id": "f150dce4-734c-46c9-81de-f10fa8b704cb",
   "metadata": {},
   "outputs": [],
   "source": [
    "df_scaled.to_csv(os.path.join(path, '02 Data', '02 Prepared data', 'Dataset-weather-prediction-dataset-scaled.csv'))"
   ]
  }
 ],
 "metadata": {
  "kernelspec": {
   "display_name": "Python 3 (ipykernel)",
   "language": "python",
   "name": "python3"
  },
  "language_info": {
   "codemirror_mode": {
    "name": "ipython",
    "version": 3
   },
   "file_extension": ".py",
   "mimetype": "text/x-python",
   "name": "python",
   "nbconvert_exporter": "python",
   "pygments_lexer": "ipython3",
   "version": "3.12.3"
  }
 },
 "nbformat": 4,
 "nbformat_minor": 5
}
